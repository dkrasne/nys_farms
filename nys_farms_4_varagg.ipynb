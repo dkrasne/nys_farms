{
 "cells": [
  {
   "cell_type": "markdown",
   "id": "4fa8fd5b",
   "metadata": {},
   "source": [
    "# Hudson Valley Gentrification and Changes in Farming\n",
    "\n",
    "## Notebook 4: Variable Aggregation"
   ]
  },
  {
   "cell_type": "markdown",
   "id": "e6af1a4a",
   "metadata": {},
   "source": []
  }
 ],
 "metadata": {
  "kernelspec": {
   "display_name": "info615",
   "language": "python",
   "name": "python3"
  },
  "language_info": {
   "name": "python",
   "version": "3.13.1"
  }
 },
 "nbformat": 4,
 "nbformat_minor": 5
}
