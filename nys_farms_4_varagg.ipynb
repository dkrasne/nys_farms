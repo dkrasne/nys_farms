{
 "cells": [
  {
   "cell_type": "markdown",
   "id": "4fa8fd5b",
   "metadata": {},
   "source": [
    "# Hudson Valley Gentrification and Changes in Farming\n",
    "\n",
    "## Notebook 4: Variable Aggregation"
   ]
  },
  {
   "cell_type": "code",
   "execution_count": 2,
   "id": "e6af1a4a",
   "metadata": {},
   "outputs": [],
   "source": [
    "import pandas as pd\n",
    "import geopandas as gpd\n",
    "import os\n",
    "import seaborn as sns\n",
    "import matplotlib.pyplot as plt\n",
    "import contextily as cx\n",
    "import numpy as np\n",
    "import math\n",
    "import json"
   ]
  },
  {
   "cell_type": "code",
   "execution_count": null,
   "id": "ad201e36",
   "metadata": {},
   "outputs": [],
   "source": [
    "api_key_stadia = os.getenv(\"STADIA_API_KEY\")\n",
    "api_key_census = os.getenv(\"CENSUS_API_KEY\")\n",
    "api_key_nass = os.getenv(\"QUICK_STATS_API_KEY\")"
   ]
  },
  {
   "cell_type": "code",
   "execution_count": null,
   "id": "2345ea64",
   "metadata": {},
   "outputs": [],
   "source": [
    "proj_nys_east = 26918\n",
    "proj_hudson_ft = 32118\n",
    "proj_nyc_ft = 2263\n",
    "proj_ea = 6933\n",
    "proj_latlon = 4326"
   ]
  },
  {
   "cell_type": "code",
   "execution_count": null,
   "id": "0691df3a",
   "metadata": {},
   "outputs": [],
   "source": [
    "# import agriculture census variable lookup tables\n",
    "with open(r\"data\\zipcode_vars.json\", \"r\") as zipcodevarfile:\n",
    "    zipcode_vars = json.load(zipcodevarfile)\n",
    "with open(r\"data\\county_vars.json\", \"r\") as countyvarfile:\n",
    "    county_vars = json.load(countyvarfile)\n",
    "\n",
    "# import agriculture census data\n",
    "ag_county2017_df = pd.read_csv(r\"data\\agcensus_county_2017.csv\")\n",
    "ag_county2022_df = pd.read_csv(r\"data\\agcensus_county_2022.csv\")\n",
    "ag_zipcode2017_df = pd.read_csv(r\"data\\agcensus_zipcode_2017.csv\")\n",
    "ag_zipcode2022_df = pd.read_csv(r\"data\\agcensus_zipcode_2022.csv\")\n",
    "\n",
    "# import ACS data\n",
    "acs_bg2017_df = pd.read_csv(r\"data\\core_bgs_acs5_2017_interp.csv\")\n",
    "acs_bg2017xwalk_df = pd.read_csv(r\"data\\core_bgs_acs5_2017_xwalk_to_2020.csv\")\n",
    "acs_bg2022_df = pd.read_csv(r\"data\\core_bgs_acs5_2022_interp.csv\")\n",
    "acs_tract2017_df = pd.read_csv(r\"data\\core_tracts_acs5_2017_interp.csv\")\n",
    "acs_tract2022_df = pd.read_csv(r\"data\\core_tracts_acs5_2022_interp.csv\")\n",
    "\n",
    "# import shapefiles\n",
    "gdf_farms_clean = gpd.read_file(r\"data\\farms_clean.geojson\").to_csv(proj_nys_east)\n",
    "gdf_farms_core = gpd.read_file(r\"data\\farms_core.geojson\").to_csv(proj_hudson_ft)\n",
    "\n",
    "gdf_nys_counties = gpd.read_file(\"data/NYS_Civil_Boundaries_2455759864913236436.geojson\").to_csv(proj_nys_east)\n",
    "gdf_zctas_core = gpd.read_file(r\"data\\zctas_core.geojson\").to_csv(proj_hudson_ft)\n",
    "gdf_tracts2017_core = gpd.read_file(\"data/tracts_core_2017.geojson\").to_csv(proj_hudson_ft)\n",
    "gdf_tracts2022_core = gpd.read_file(\"data/tracts_core_2022.geojson\").to_csv(proj_hudson_ft)\n",
    "gdf_bgs2022_core = gpd.read_file(\"data/bgs_core_2022.geojson\").to_csv(proj_hudson_ft)\n",
    "gdf_counties_core = gpd.read_file(\"data/counties_core.geojson\").to_csv(proj_hudson_ft)"
   ]
  }
 ],
 "metadata": {
  "kernelspec": {
   "display_name": "info615",
   "language": "python",
   "name": "python3"
  },
  "language_info": {
   "codemirror_mode": {
    "name": "ipython",
    "version": 3
   },
   "file_extension": ".py",
   "mimetype": "text/x-python",
   "name": "python",
   "nbconvert_exporter": "python",
   "pygments_lexer": "ipython3",
   "version": "3.13.1"
  }
 },
 "nbformat": 4,
 "nbformat_minor": 5
}
